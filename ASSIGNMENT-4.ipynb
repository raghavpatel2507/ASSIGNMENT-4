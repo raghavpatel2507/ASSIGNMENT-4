{
 "cells": [
  {
   "cell_type": "code",
   "execution_count": 1,
   "id": "d1db2289-e0c7-4736-a0f6-ed415095845e",
   "metadata": {},
   "outputs": [],
   "source": [
    "#Q-1\n",
    "# class is a blueprint of object ex-class example..\n",
    "# object is a instance of a clss..\n"
   ]
  },
  {
   "cell_type": "code",
   "execution_count": 10,
   "id": "acb0a464-2204-46db-bf6f-8f29ac661239",
   "metadata": {},
   "outputs": [],
   "source": [
    "class example:\n",
    "    def printfun(self):\n",
    "        print('this is a example class')\n",
    "     \n",
    "      "
   ]
  },
  {
   "cell_type": "code",
   "execution_count": 11,
   "id": "3b1a18fb-eeb8-46f8-97f1-e89d97e00b2b",
   "metadata": {},
   "outputs": [],
   "source": [
    "raghav=example()"
   ]
  },
  {
   "cell_type": "code",
   "execution_count": 12,
   "id": "bc630657-9770-4a5b-8937-353f730fd132",
   "metadata": {},
   "outputs": [
    {
     "name": "stdout",
     "output_type": "stream",
     "text": [
      "this is a example class\n"
     ]
    }
   ],
   "source": [
    "raghav.printfun()"
   ]
  },
  {
   "cell_type": "code",
   "execution_count": 13,
   "id": "be149d8f-330b-4254-a63b-2905018fbbaf",
   "metadata": {},
   "outputs": [],
   "source": [
    "# Q-3\n",
    "# polymorphism\n",
    "# inheritance\n",
    "# encapsukation\n",
    "# abstraction"
   ]
  },
  {
   "cell_type": "code",
   "execution_count": 14,
   "id": "07928758-4100-4cf0-a4fe-2768eef691fc",
   "metadata": {},
   "outputs": [],
   "source": [
    "# Q-4\n",
    "# __init__() init fumction is paython one type is a method.this method is a intialize atribute in a class\n",
    "class pwskills1:\n",
    "    \n",
    "    def __init__(self,phone_no,email_id,student_id):\n",
    "        self.phone_no=phone_no\n",
    "        self.email_id=email_id\n",
    "        self.student_id=student_id\n",
    "    \n",
    "    def return_student_deatail(self):\n",
    "        return self.student_id,self.phone_no,self.email_id\n"
   ]
  },
  {
   "cell_type": "code",
   "execution_count": 15,
   "id": "f4350436-ed95-49a1-bab9-f44a3e645333",
   "metadata": {},
   "outputs": [],
   "source": [
    "raghav=pwskills1(784561231,'raghav@gmail.com',100)"
   ]
  },
  {
   "cell_type": "code",
   "execution_count": 16,
   "id": "33886cdb-0d4d-4d85-ada6-510cee4220b5",
   "metadata": {},
   "outputs": [
    {
     "data": {
      "text/plain": [
       "(100, 784561231, 'raghav@gmail.com')"
      ]
     },
     "execution_count": 16,
     "metadata": {},
     "output_type": "execute_result"
    }
   ],
   "source": [
    "raghav.return_student_deatail()"
   ]
  },
  {
   "cell_type": "code",
   "execution_count": 17,
   "id": "7a84c5e1-e49e-40b5-964f-12c5ffacab22",
   "metadata": {},
   "outputs": [],
   "source": [
    "#Q-5\n",
    "# self is represent by instance of a class"
   ]
  },
  {
   "cell_type": "code",
   "execution_count": 18,
   "id": "f5c02751-8a77-48a3-a1bb-11ea521c3ba4",
   "metadata": {},
   "outputs": [],
   "source": [
    "#Q-6\n",
    "# Inheritance is a mechanism in which one class acquires the property of another class.\n"
   ]
  },
  {
   "cell_type": "code",
   "execution_count": 19,
   "id": "19c7da73-6fdb-45c0-b0f4-a2dfe3693cfa",
   "metadata": {},
   "outputs": [],
   "source": [
    "class example1:\n",
    "    def printfun(self):\n",
    "        print('this class is a perentclass')"
   ]
  },
  {
   "cell_type": "code",
   "execution_count": 21,
   "id": "25822730-e605-49c1-b729-fbee87ad98e0",
   "metadata": {},
   "outputs": [],
   "source": [
    "class example2(example1):\n",
    "    def printfun1(self):\n",
    "        print('this class is a child class')"
   ]
  },
  {
   "cell_type": "code",
   "execution_count": 22,
   "id": "253d9466-21a3-4266-bfb5-2d6709a127c9",
   "metadata": {},
   "outputs": [],
   "source": [
    "raghav=example2()"
   ]
  },
  {
   "cell_type": "code",
   "execution_count": 23,
   "id": "181149f3-5d75-4906-8dc3-ba9551eca2bb",
   "metadata": {},
   "outputs": [
    {
     "name": "stdout",
     "output_type": "stream",
     "text": [
      "this class is a perentclass\n"
     ]
    }
   ],
   "source": [
    "raghav.printfun()"
   ]
  },
  {
   "cell_type": "code",
   "execution_count": null,
   "id": "7c539dbb-b3ba-43fa-bf8c-58fbc0114ef1",
   "metadata": {},
   "outputs": [],
   "source": [
    "raghav."
   ]
  }
 ],
 "metadata": {
  "kernelspec": {
   "display_name": "Python 3 (ipykernel)",
   "language": "python",
   "name": "python3"
  },
  "language_info": {
   "codemirror_mode": {
    "name": "ipython",
    "version": 3
   },
   "file_extension": ".py",
   "mimetype": "text/x-python",
   "name": "python",
   "nbconvert_exporter": "python",
   "pygments_lexer": "ipython3",
   "version": "3.10.8"
  }
 },
 "nbformat": 4,
 "nbformat_minor": 5
}
